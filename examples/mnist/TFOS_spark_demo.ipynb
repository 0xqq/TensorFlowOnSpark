{
 "cells": [
  {
   "cell_type": "code",
   "execution_count": 1,
   "metadata": {
    "collapsed": false
   },
   "outputs": [],
   "source": [
    "from __future__ import absolute_import\n",
    "from __future__ import division\n",
    "from __future__ import print_function\n",
    "\n",
    "import logging\n",
    "import argparse\n",
    "import subprocess\n",
    "from com.yahoo.ml.tf import TFCluster\n",
    "import mnist_dist"
   ]
  },
  {
   "cell_type": "code",
   "execution_count": 2,
   "metadata": {
    "collapsed": false
   },
   "outputs": [],
   "source": [
    "reload(logging)\n",
    "logging.basicConfig(format='%(asctime)s %(levelname)s:%(message)s', level=logging.INFO, datefmt='%I:%M:%S')"
   ]
  },
  {
   "cell_type": "code",
   "execution_count": 3,
   "metadata": {
    "collapsed": false,
    "deletable": true,
    "editable": true
   },
   "outputs": [],
   "source": [
    "parser = argparse.ArgumentParser()\n",
    "parser.add_argument(\"-e\", \"--epochs\", help=\"number of epochs\", type=int, default=1)\n",
    "parser.add_argument(\"-i\", \"--images\", help=\"HDFS path to MNIST images in parallelized format\")\n",
    "parser.add_argument(\"-l\", \"--labels\", help=\"HDFS path to MNIST labels in parallelized format\")\n",
    "parser.add_argument(\"-f\", \"--format\", help=\"example format\", choices=[\"csv\",\"pickle\",\"tfr\"], default=\"csv\")\n",
    "parser.add_argument(\"-m\", \"--model\", help=\"HDFS path to save/load model during train/test\", default=\"mnist_model\")\n",
    "parser.add_argument(\"-r\", \"--readers\", help=\"number of reader/enqueue threads\", type=int, default=1)\n",
    "parser.add_argument(\"-s\", \"--steps\", help=\"maximum number of steps\", type=int, default=500)\n",
    "parser.add_argument(\"-X\", \"--mode\", help=\"train|inference\", default=\"train\")\n",
    "parser.add_argument(\"-c\", \"--rdma\", help=\"use rdma connection\", default=False)\n",
    "num_executors = 2"
   ]
  },
  {
   "cell_type": "code",
   "execution_count": 16,
   "metadata": {
    "collapsed": false
   },
   "outputs": [
    {
     "data": {
      "text/plain": [
       "0"
      ]
     },
     "execution_count": 16,
     "metadata": {},
     "output_type": "execute_result"
    }
   ],
   "source": [
    "#remove existing models if any\n",
    "subprocess.call([\"rm\", \"-rf\", \"mnist_model\"])"
   ]
  },
  {
   "cell_type": "code",
   "execution_count": 5,
   "metadata": {
    "collapsed": false
   },
   "outputs": [
    {
     "name": "stdout",
     "output_type": "stream",
     "text": [
      "total 213808\n",
      "-rw-r--r--  1 afeng  staff         0 Feb  8 14:52 _SUCCESS\n",
      "-rw-r--r--  1 afeng  staff   9338236 Feb  8 14:52 part-00000\n",
      "-rw-r--r--  1 afeng  staff  11231804 Feb  8 14:52 part-00001\n",
      "-rw-r--r--  1 afeng  staff  11214784 Feb  8 14:52 part-00002\n",
      "-rw-r--r--  1 afeng  staff  11226100 Feb  8 14:52 part-00003\n",
      "-rw-r--r--  1 afeng  staff  11212767 Feb  8 14:52 part-00004\n",
      "-rw-r--r--  1 afeng  staff  11173834 Feb  8 14:52 part-00005\n",
      "-rw-r--r--  1 afeng  staff  11214285 Feb  8 14:52 part-00006\n",
      "-rw-r--r--  1 afeng  staff  11201024 Feb  8 14:52 part-00007\n",
      "-rw-r--r--  1 afeng  staff  11194141 Feb  8 14:52 part-00008\n",
      "-rw-r--r--  1 afeng  staff  10449019 Feb  8 14:52 part-00009\n",
      "\n"
     ]
    }
   ],
   "source": [
    "#verify training images\n",
    "train_images_files = \"csv/train/images\"\n",
    "print(subprocess.check_output([\"ls\", \"-l\", train_images_files]))"
   ]
  },
  {
   "cell_type": "code",
   "execution_count": 6,
   "metadata": {
    "collapsed": false,
    "scrolled": true
   },
   "outputs": [
    {
     "name": "stdout",
     "output_type": "stream",
     "text": [
      "total 4688\n",
      "-rw-r--r--  1 afeng  staff       0 Feb  8 14:52 _SUCCESS\n",
      "-rw-r--r--  1 afeng  staff  204800 Feb  8 14:52 part-00000\n",
      "-rw-r--r--  1 afeng  staff  245760 Feb  8 14:52 part-00001\n",
      "-rw-r--r--  1 afeng  staff  245760 Feb  8 14:52 part-00002\n",
      "-rw-r--r--  1 afeng  staff  245760 Feb  8 14:52 part-00003\n",
      "-rw-r--r--  1 afeng  staff  245760 Feb  8 14:52 part-00004\n",
      "-rw-r--r--  1 afeng  staff  245760 Feb  8 14:52 part-00005\n",
      "-rw-r--r--  1 afeng  staff  245760 Feb  8 14:52 part-00006\n",
      "-rw-r--r--  1 afeng  staff  245760 Feb  8 14:52 part-00007\n",
      "-rw-r--r--  1 afeng  staff  245760 Feb  8 14:52 part-00008\n",
      "-rw-r--r--  1 afeng  staff  229120 Feb  8 14:52 part-00009\n",
      "\n"
     ]
    }
   ],
   "source": [
    "#verify training labels\n",
    "train_labels_files = \"csv/train/labels\"\n",
    "print(subprocess.check_output([\"ls\", \"-l\", train_labels_files]))"
   ]
  },
  {
   "cell_type": "code",
   "execution_count": 17,
   "metadata": {
    "collapsed": false
   },
   "outputs": [
    {
     "name": "stderr",
     "output_type": "stream",
     "text": [
      "09:18:56 INFO:Reserving TFSparkNodes w/ TensorBoard\n",
      "09:19:06 INFO:TensorBoard running at: http://notforever-lm:54463\n"
     ]
    }
   ],
   "source": [
    "#reserver a cluster for training\n",
    "cluster = TFCluster.reserve(sc, num_executors, 1, True, TFCluster.InputMode.SPARK)"
   ]
  },
  {
   "cell_type": "code",
   "execution_count": 18,
   "metadata": {
    "collapsed": false
   },
   "outputs": [
    {
     "name": "stderr",
     "output_type": "stream",
     "text": [
      "09:19:27 INFO:Starting TensorFlow\n",
      "09:19:33 INFO:Feeding training data\n"
     ]
    }
   ],
   "source": [
    "#Check out tensorboard at http://localhost:<tb_port> per above during the execution of this step.\n",
    "#It may wait a little for TensorFlow TAG to be loaded.\n",
    "#\n",
    "args = parser.parse_args(['--mode', 'train', \n",
    "                          '--images', train_images_files, \n",
    "                          '--labels', train_labels_files])\n",
    "cluster.start(mnist_dist.map_fun, args)\n",
    "#Feed data via Spark RDD\n",
    "images = sc.textFile(args.images).map(lambda ln: [int(x) for x in ln.split(',')])\n",
    "labels = sc.textFile(args.labels).map(lambda ln: [float(x) for x in ln.split(',')])\n",
    "dataRDD = images.zip(labels)\n",
    "cluster.train(dataRDD, args.epochs)"
   ]
  },
  {
   "cell_type": "code",
   "execution_count": 19,
   "metadata": {
    "collapsed": false,
    "deletable": true,
    "editable": true,
    "scrolled": true
   },
   "outputs": [
    {
     "name": "stderr",
     "output_type": "stream",
     "text": [
      "09:21:02 INFO:Stopping TensorFlow nodes\n"
     ]
    }
   ],
   "source": [
    "cluster.shutdown()"
   ]
  },
  {
   "cell_type": "code",
   "execution_count": 20,
   "metadata": {
    "collapsed": false
   },
   "outputs": [
    {
     "name": "stdout",
     "output_type": "stream",
     "text": [
      "total 8672\n",
      "-rw-r--r--  1 afeng  staff     263 Feb 12 09:20 checkpoint\n",
      "-rw-r--r--  1 afeng  staff  113289 Feb 12 09:19 graph.pbtxt\n",
      "-rw-r--r--  1 afeng  staff  814164 Feb 12 09:19 model.ckpt-0.data-00000-of-00001\n",
      "-rw-r--r--  1 afeng  staff     372 Feb 12 09:19 model.ckpt-0.index\n",
      "-rw-r--r--  1 afeng  staff   43896 Feb 12 09:19 model.ckpt-0.meta\n",
      "-rw-r--r--  1 afeng  staff  814164 Feb 12 09:19 model.ckpt-117.data-00000-of-00001\n",
      "-rw-r--r--  1 afeng  staff     372 Feb 12 09:19 model.ckpt-117.index\n",
      "-rw-r--r--  1 afeng  staff   43896 Feb 12 09:19 model.ckpt-117.meta\n",
      "-rw-r--r--  1 afeng  staff  814164 Feb 12 09:19 model.ckpt-240.data-00000-of-00001\n",
      "-rw-r--r--  1 afeng  staff     372 Feb 12 09:19 model.ckpt-240.index\n",
      "-rw-r--r--  1 afeng  staff   43896 Feb 12 09:19 model.ckpt-240.meta\n",
      "-rw-r--r--  1 afeng  staff  814164 Feb 12 09:20 model.ckpt-364.data-00000-of-00001\n",
      "-rw-r--r--  1 afeng  staff     372 Feb 12 09:20 model.ckpt-364.index\n",
      "-rw-r--r--  1 afeng  staff   43896 Feb 12 09:20 model.ckpt-364.meta\n",
      "-rw-r--r--  1 afeng  staff  814164 Feb 12 09:20 model.ckpt-493.data-00000-of-00001\n",
      "-rw-r--r--  1 afeng  staff     372 Feb 12 09:20 model.ckpt-493.index\n",
      "-rw-r--r--  1 afeng  staff   43896 Feb 12 09:20 model.ckpt-493.meta\n",
      "\n"
     ]
    }
   ],
   "source": [
    "print(subprocess.check_output([\"ls\", \"-l\", \"mnist_model\"]))"
   ]
  },
  {
   "cell_type": "code",
   "execution_count": 11,
   "metadata": {
    "collapsed": false
   },
   "outputs": [
    {
     "name": "stdout",
     "output_type": "stream",
     "text": [
      "total 35720\n",
      "-rw-r--r--  1 afeng  staff        0 Feb  8 14:53 _SUCCESS\n",
      "-rw-r--r--  1 afeng  staff  1810248 Feb  8 14:53 part-00000\n",
      "-rw-r--r--  1 afeng  staff  1806102 Feb  8 14:53 part-00001\n",
      "-rw-r--r--  1 afeng  staff  1811128 Feb  8 14:53 part-00002\n",
      "-rw-r--r--  1 afeng  staff  1812952 Feb  8 14:53 part-00003\n",
      "-rw-r--r--  1 afeng  staff  1810946 Feb  8 14:53 part-00004\n",
      "-rw-r--r--  1 afeng  staff  1835497 Feb  8 14:53 part-00005\n",
      "-rw-r--r--  1 afeng  staff  1845261 Feb  8 14:53 part-00006\n",
      "-rw-r--r--  1 afeng  staff  1850655 Feb  8 14:53 part-00007\n",
      "-rw-r--r--  1 afeng  staff  1852712 Feb  8 14:53 part-00008\n",
      "-rw-r--r--  1 afeng  staff  1833942 Feb  8 14:53 part-00009\n",
      "\n"
     ]
    }
   ],
   "source": [
    "#verify test images\n",
    "test_images_files = \"csv/test/images\"\n",
    "print(subprocess.check_output([\"ls\", \"-l\", test_images_files]))"
   ]
  },
  {
   "cell_type": "code",
   "execution_count": 12,
   "metadata": {
    "collapsed": false
   },
   "outputs": [
    {
     "name": "stdout",
     "output_type": "stream",
     "text": [
      "total 800\n",
      "-rw-r--r--  1 afeng  staff      0 Feb  8 14:53 _SUCCESS\n",
      "-rw-r--r--  1 afeng  staff  40000 Feb  8 14:53 part-00000\n",
      "-rw-r--r--  1 afeng  staff  40000 Feb  8 14:53 part-00001\n",
      "-rw-r--r--  1 afeng  staff  40000 Feb  8 14:53 part-00002\n",
      "-rw-r--r--  1 afeng  staff  40000 Feb  8 14:53 part-00003\n",
      "-rw-r--r--  1 afeng  staff  40000 Feb  8 14:53 part-00004\n",
      "-rw-r--r--  1 afeng  staff  40000 Feb  8 14:53 part-00005\n",
      "-rw-r--r--  1 afeng  staff  40000 Feb  8 14:53 part-00006\n",
      "-rw-r--r--  1 afeng  staff  40000 Feb  8 14:53 part-00007\n",
      "-rw-r--r--  1 afeng  staff  40000 Feb  8 14:53 part-00008\n",
      "-rw-r--r--  1 afeng  staff  40000 Feb  8 14:53 part-00009\n",
      "\n"
     ]
    }
   ],
   "source": [
    "#verify test labels\n",
    "test_labels_files = \"csv/test/labels\"\n",
    "print(subprocess.check_output([\"ls\", \"-l\", test_labels_files]))"
   ]
  },
  {
   "cell_type": "code",
   "execution_count": 21,
   "metadata": {
    "collapsed": false
   },
   "outputs": [
    {
     "name": "stderr",
     "output_type": "stream",
     "text": [
      "09:21:16 INFO:Reserving TFSparkNodes w/ TensorBoard\n",
      "09:21:27 INFO:TensorBoard running at: http://notforever-lm:54558\n"
     ]
    }
   ],
   "source": [
    "#reserver cluster for inference\n",
    "cluster = TFCluster.reserve(sc, num_executors, 1, True, TFCluster.InputMode.SPARK)"
   ]
  },
  {
   "cell_type": "code",
   "execution_count": 22,
   "metadata": {
    "collapsed": false
   },
   "outputs": [
    {
     "name": "stderr",
     "output_type": "stream",
     "text": [
      "09:22:03 INFO:Starting TensorFlow\n",
      "09:22:08 INFO:Feeding inference data\n"
     ]
    },
    {
     "data": {
      "text/plain": [
       "['2017-02-12T09:22:10.997358 Label: 7, Prediction: 7',\n",
       " '2017-02-12T09:22:10.997468 Label: 2, Prediction: 2',\n",
       " '2017-02-12T09:22:10.997511 Label: 1, Prediction: 1',\n",
       " '2017-02-12T09:22:10.997549 Label: 0, Prediction: 0',\n",
       " '2017-02-12T09:22:10.997586 Label: 4, Prediction: 4',\n",
       " '2017-02-12T09:22:10.997623 Label: 1, Prediction: 1',\n",
       " '2017-02-12T09:22:10.997661 Label: 4, Prediction: 4',\n",
       " '2017-02-12T09:22:10.997697 Label: 9, Prediction: 9',\n",
       " '2017-02-12T09:22:10.997734 Label: 5, Prediction: 6',\n",
       " '2017-02-12T09:22:10.997771 Label: 9, Prediction: 9',\n",
       " '2017-02-12T09:22:10.997808 Label: 0, Prediction: 0',\n",
       " '2017-02-12T09:22:10.997845 Label: 6, Prediction: 6',\n",
       " '2017-02-12T09:22:10.997881 Label: 9, Prediction: 9',\n",
       " '2017-02-12T09:22:10.997917 Label: 0, Prediction: 0',\n",
       " '2017-02-12T09:22:10.997954 Label: 1, Prediction: 1',\n",
       " '2017-02-12T09:22:10.997990 Label: 5, Prediction: 5',\n",
       " '2017-02-12T09:22:10.998026 Label: 9, Prediction: 9',\n",
       " '2017-02-12T09:22:10.998063 Label: 7, Prediction: 7',\n",
       " '2017-02-12T09:22:10.998100 Label: 3, Prediction: 3',\n",
       " '2017-02-12T09:22:10.998137 Label: 4, Prediction: 4']"
      ]
     },
     "execution_count": 22,
     "metadata": {},
     "output_type": "execute_result"
    }
   ],
   "source": [
    "#Check out tensorboard at http://localhost:<tb_port> per above\n",
    "#\n",
    "args = parser.parse_args(['--mode', 'inference', \n",
    "                          '--images', test_images_files, \n",
    "                          '--labels', test_labels_files])\n",
    "cluster.start(mnist_dist.map_fun, args)\n",
    "#prepare data as Spark RDD\n",
    "images = sc.textFile(args.images).map(lambda ln: [int(x) for x in ln.split(',')])\n",
    "labels = sc.textFile(args.labels).map(lambda ln: [float(x) for x in ln.split(',')])\n",
    "dataRDD = images.zip(labels)\n",
    "#feed data for inference\n",
    "prediction_results = cluster.inference(dataRDD)\n",
    "prediction_results.take(20)"
   ]
  },
  {
   "cell_type": "code",
   "execution_count": 23,
   "metadata": {
    "collapsed": false
   },
   "outputs": [
    {
     "name": "stderr",
     "output_type": "stream",
     "text": [
      "09:22:36 INFO:Stopping TensorFlow nodes\n"
     ]
    }
   ],
   "source": [
    "cluster.shutdown()"
   ]
  }
 ],
 "metadata": {
  "kernelspec": {
   "display_name": "Python 2",
   "language": "python",
   "name": "python2"
  },
  "language_info": {
   "codemirror_mode": {
    "name": "ipython",
    "version": 2
   },
   "file_extension": ".py",
   "mimetype": "text/x-python",
   "name": "python",
   "nbconvert_exporter": "python",
   "pygments_lexer": "ipython2",
   "version": "2.7.11"
  }
 },
 "nbformat": 4,
 "nbformat_minor": 2
}
