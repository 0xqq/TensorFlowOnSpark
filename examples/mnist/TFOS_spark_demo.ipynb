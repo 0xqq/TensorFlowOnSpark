{
 "cells": [
  {
   "cell_type": "code",
   "execution_count": 1,
   "metadata": {
    "collapsed": true,
    "deletable": true,
    "editable": true
   },
   "outputs": [],
   "source": [
    "from __future__ import absolute_import\n",
    "from __future__ import division\n",
    "from __future__ import print_function\n",
    "\n",
    "import argparse\n",
    "import subprocess\n",
    "from com.yahoo.ml.tf import TFCluster\n",
    "import mnist_dist"
   ]
  },
  {
   "cell_type": "code",
   "execution_count": 31,
   "metadata": {
    "collapsed": false,
    "deletable": true,
    "editable": true
   },
   "outputs": [],
   "source": [
    "parser = argparse.ArgumentParser()\n",
    "parser.add_argument(\"-e\", \"--epochs\", help=\"number of epochs\", type=int, default=1)\n",
    "parser.add_argument(\"-i\", \"--images\", help=\"HDFS path to MNIST images in parallelized format\")\n",
    "parser.add_argument(\"-l\", \"--labels\", help=\"HDFS path to MNIST labels in parallelized format\")\n",
    "parser.add_argument(\"-f\", \"--format\", help=\"example format\", choices=[\"csv\",\"pickle\",\"tfr\"], default=\"csv\")\n",
    "parser.add_argument(\"-m\", \"--model\", help=\"HDFS path to save/load model during train/test\", default=\"mnist_model\")\n",
    "parser.add_argument(\"-o\", \"--output\", help=\"HDFS path to save test/inference output\", default=\"predictions\")\n",
    "parser.add_argument(\"-r\", \"--readers\", help=\"number of reader/enqueue threads\", type=int, default=1)\n",
    "parser.add_argument(\"-s\", \"--steps\", help=\"maximum number of steps\", type=int, default=500)\n",
    "parser.add_argument(\"-X\", \"--mode\", help=\"train|inference\", default=\"train\")\n",
    "parser.add_argument(\"-c\", \"--rdma\", help=\"use rdma connection\", default=False)\n",
    "parser.add_argument(\"-tb\", \"--tensorboard\", help=\"launch tensorboard process\", action=\"store_true\")\n",
    "num_executors = 2"
   ]
  },
  {
   "cell_type": "code",
   "execution_count": 34,
   "metadata": {
    "collapsed": false
   },
   "outputs": [
    {
     "data": {
      "text/plain": [
       "0"
      ]
     },
     "execution_count": 34,
     "metadata": {},
     "output_type": "execute_result"
    }
   ],
   "source": [
    "#remove existing models if any\n",
    "subprocess.call([\"rm\", \"-rf\", \"mnist_model\"])"
   ]
  },
  {
   "cell_type": "code",
   "execution_count": 35,
   "metadata": {
    "collapsed": false
   },
   "outputs": [
    {
     "name": "stdout",
     "output_type": "stream",
     "text": [
      "total 213808\n",
      "-rw-r--r--  1 afeng  staff         0 Feb  8 14:52 _SUCCESS\n",
      "-rw-r--r--  1 afeng  staff   9338236 Feb  8 14:52 part-00000\n",
      "-rw-r--r--  1 afeng  staff  11231804 Feb  8 14:52 part-00001\n",
      "-rw-r--r--  1 afeng  staff  11214784 Feb  8 14:52 part-00002\n",
      "-rw-r--r--  1 afeng  staff  11226100 Feb  8 14:52 part-00003\n",
      "-rw-r--r--  1 afeng  staff  11212767 Feb  8 14:52 part-00004\n",
      "-rw-r--r--  1 afeng  staff  11173834 Feb  8 14:52 part-00005\n",
      "-rw-r--r--  1 afeng  staff  11214285 Feb  8 14:52 part-00006\n",
      "-rw-r--r--  1 afeng  staff  11201024 Feb  8 14:52 part-00007\n",
      "-rw-r--r--  1 afeng  staff  11194141 Feb  8 14:52 part-00008\n",
      "-rw-r--r--  1 afeng  staff  10449019 Feb  8 14:52 part-00009\n",
      "\n"
     ]
    }
   ],
   "source": [
    "#verify training images\n",
    "train_images_files = \"csv/train/images\"\n",
    "print(subprocess.check_output([\"ls\", \"-l\", train_images_files]))"
   ]
  },
  {
   "cell_type": "code",
   "execution_count": 36,
   "metadata": {
    "collapsed": false,
    "scrolled": true
   },
   "outputs": [
    {
     "name": "stdout",
     "output_type": "stream",
     "text": [
      "total 4688\n",
      "-rw-r--r--  1 afeng  staff       0 Feb  8 14:52 _SUCCESS\n",
      "-rw-r--r--  1 afeng  staff  204800 Feb  8 14:52 part-00000\n",
      "-rw-r--r--  1 afeng  staff  245760 Feb  8 14:52 part-00001\n",
      "-rw-r--r--  1 afeng  staff  245760 Feb  8 14:52 part-00002\n",
      "-rw-r--r--  1 afeng  staff  245760 Feb  8 14:52 part-00003\n",
      "-rw-r--r--  1 afeng  staff  245760 Feb  8 14:52 part-00004\n",
      "-rw-r--r--  1 afeng  staff  245760 Feb  8 14:52 part-00005\n",
      "-rw-r--r--  1 afeng  staff  245760 Feb  8 14:52 part-00006\n",
      "-rw-r--r--  1 afeng  staff  245760 Feb  8 14:52 part-00007\n",
      "-rw-r--r--  1 afeng  staff  245760 Feb  8 14:52 part-00008\n",
      "-rw-r--r--  1 afeng  staff  229120 Feb  8 14:52 part-00009\n",
      "\n"
     ]
    }
   ],
   "source": [
    "#verify training labels\n",
    "train_labels_files = \"csv/train/labels\"\n",
    "print(subprocess.check_output([\"ls\", \"-l\", train_labels_files]))"
   ]
  },
  {
   "cell_type": "code",
   "execution_count": null,
   "metadata": {
    "collapsed": true
   },
   "outputs": [],
   "source": [
    "#reserver a cluster for training\n",
    "cluster = TFCluster.reserve(sc, num_executors, 1, TFCluster.InputMode.TENSORFLOW, TFCluster.InputMode.SPARK)"
   ]
  },
  {
   "cell_type": "code",
   "execution_count": 37,
   "metadata": {
    "collapsed": false,
    "deletable": true,
    "editable": true,
    "scrolled": false
   },
   "outputs": [],
   "source": [
    "args = parser.parse_args(['--model', 'mnist_model', \n",
    "                          '--images', train_images_files, \n",
    "                          '--labels', train_labels_files, \n",
    "                          '--tensorboard'])"
   ]
  },
  {
   "cell_type": "code",
   "execution_count": 38,
   "metadata": {
    "collapsed": false
   },
   "outputs": [],
   "source": [
    "cluster.start(mnist_dist.map_fun, args)\n",
    "#Feed data via Spark RDD\n",
    "images = sc.textFile(args.images).map(lambda ln: [int(x) for x in ln.split(',')])\n",
    "labels = sc.textFile(args.labels).map(lambda ln: [float(x) for x in ln.split(',')])\n",
    "dataRDD = images.zip(labels)\n",
    "cluster.train(dataRDD, args.epochs)"
   ]
  },
  {
   "cell_type": "code",
   "execution_count": 39,
   "metadata": {
    "collapsed": false,
    "deletable": true,
    "editable": true,
    "scrolled": true
   },
   "outputs": [
    {
     "name": "stdout",
     "output_type": "stream",
     "text": [
      "connecting to ('notforever-lm', 57027), 4fe1cc03-8c73-479d-a6f4-81f579d44295\n"
     ]
    }
   ],
   "source": [
    "cluster.shutdown()"
   ]
  },
  {
   "cell_type": "code",
   "execution_count": 40,
   "metadata": {
    "collapsed": false
   },
   "outputs": [
    {
     "name": "stdout",
     "output_type": "stream",
     "text": [
      "total 8672\n",
      "-rw-r--r--  1 afeng  staff     263 Feb  8 17:41 checkpoint\n",
      "-rw-r--r--  1 afeng  staff  113289 Feb  8 17:41 graph.pbtxt\n",
      "-rw-r--r--  1 afeng  staff  814164 Feb  8 17:41 model.ckpt-0.data-00000-of-00001\n",
      "-rw-r--r--  1 afeng  staff     372 Feb  8 17:41 model.ckpt-0.index\n",
      "-rw-r--r--  1 afeng  staff   43896 Feb  8 17:41 model.ckpt-0.meta\n",
      "-rw-r--r--  1 afeng  staff  814164 Feb  8 17:41 model.ckpt-118.data-00000-of-00001\n",
      "-rw-r--r--  1 afeng  staff     372 Feb  8 17:41 model.ckpt-118.index\n",
      "-rw-r--r--  1 afeng  staff   43896 Feb  8 17:41 model.ckpt-118.meta\n",
      "-rw-r--r--  1 afeng  staff  814164 Feb  8 17:41 model.ckpt-243.data-00000-of-00001\n",
      "-rw-r--r--  1 afeng  staff     372 Feb  8 17:41 model.ckpt-243.index\n",
      "-rw-r--r--  1 afeng  staff   43896 Feb  8 17:41 model.ckpt-243.meta\n",
      "-rw-r--r--  1 afeng  staff  814164 Feb  8 17:41 model.ckpt-369.data-00000-of-00001\n",
      "-rw-r--r--  1 afeng  staff     372 Feb  8 17:41 model.ckpt-369.index\n",
      "-rw-r--r--  1 afeng  staff   43896 Feb  8 17:41 model.ckpt-369.meta\n",
      "-rw-r--r--  1 afeng  staff  814164 Feb  8 17:41 model.ckpt-501.data-00000-of-00001\n",
      "-rw-r--r--  1 afeng  staff     372 Feb  8 17:41 model.ckpt-501.index\n",
      "-rw-r--r--  1 afeng  staff   43896 Feb  8 17:41 model.ckpt-501.meta\n",
      "\n"
     ]
    }
   ],
   "source": [
    "print(subprocess.check_output([\"ls\", \"-l\", \"mnist_model\"]))"
   ]
  },
  {
   "cell_type": "code",
   "execution_count": 41,
   "metadata": {
    "collapsed": false
   },
   "outputs": [
    {
     "name": "stdout",
     "output_type": "stream",
     "text": [
      "total 35720\n",
      "-rw-r--r--  1 afeng  staff        0 Feb  8 14:53 _SUCCESS\n",
      "-rw-r--r--  1 afeng  staff  1810248 Feb  8 14:53 part-00000\n",
      "-rw-r--r--  1 afeng  staff  1806102 Feb  8 14:53 part-00001\n",
      "-rw-r--r--  1 afeng  staff  1811128 Feb  8 14:53 part-00002\n",
      "-rw-r--r--  1 afeng  staff  1812952 Feb  8 14:53 part-00003\n",
      "-rw-r--r--  1 afeng  staff  1810946 Feb  8 14:53 part-00004\n",
      "-rw-r--r--  1 afeng  staff  1835497 Feb  8 14:53 part-00005\n",
      "-rw-r--r--  1 afeng  staff  1845261 Feb  8 14:53 part-00006\n",
      "-rw-r--r--  1 afeng  staff  1850655 Feb  8 14:53 part-00007\n",
      "-rw-r--r--  1 afeng  staff  1852712 Feb  8 14:53 part-00008\n",
      "-rw-r--r--  1 afeng  staff  1833942 Feb  8 14:53 part-00009\n",
      "\n"
     ]
    }
   ],
   "source": [
    "#verify test images\n",
    "test_images_files = \"csv/test/images\"\n",
    "print(subprocess.check_output([\"ls\", \"-l\", test_images_files]))"
   ]
  },
  {
   "cell_type": "code",
   "execution_count": 42,
   "metadata": {
    "collapsed": false
   },
   "outputs": [
    {
     "name": "stdout",
     "output_type": "stream",
     "text": [
      "total 800\n",
      "-rw-r--r--  1 afeng  staff      0 Feb  8 14:53 _SUCCESS\n",
      "-rw-r--r--  1 afeng  staff  40000 Feb  8 14:53 part-00000\n",
      "-rw-r--r--  1 afeng  staff  40000 Feb  8 14:53 part-00001\n",
      "-rw-r--r--  1 afeng  staff  40000 Feb  8 14:53 part-00002\n",
      "-rw-r--r--  1 afeng  staff  40000 Feb  8 14:53 part-00003\n",
      "-rw-r--r--  1 afeng  staff  40000 Feb  8 14:53 part-00004\n",
      "-rw-r--r--  1 afeng  staff  40000 Feb  8 14:53 part-00005\n",
      "-rw-r--r--  1 afeng  staff  40000 Feb  8 14:53 part-00006\n",
      "-rw-r--r--  1 afeng  staff  40000 Feb  8 14:53 part-00007\n",
      "-rw-r--r--  1 afeng  staff  40000 Feb  8 14:53 part-00008\n",
      "-rw-r--r--  1 afeng  staff  40000 Feb  8 14:53 part-00009\n",
      "\n"
     ]
    }
   ],
   "source": [
    "#verify test labels\n",
    "test_labels_files = \"csv/test/labels\"\n",
    "print(subprocess.check_output([\"ls\", \"-l\", test_labels_files]))"
   ]
  },
  {
   "cell_type": "code",
   "execution_count": 43,
   "metadata": {
    "collapsed": false
   },
   "outputs": [
    {
     "name": "stdout",
     "output_type": "stream",
     "text": [
      "{'addr': ('notforever-lm', 57115), 'task_index': 0, 'port': 57125, 'authkey': UUID('51b0f93e-44d1-4a9c-a69d-48214d2d0d5f'), 'worker_num': 0, 'host': 'notforever-lm', 'ppid': 8996, 'job_name': 'ps', 'tb_port': 0}\n",
      "{'addr': '/var/folders/mk/v_wmtt4n6491cqfl6qsctdv0000l60/T/pymp-9rwgyX/listener-eNZblt', 'task_index': 0, 'port': 57116, 'authkey': UUID('1f09964a-ab71-4722-ba5d-025727eac04a'), 'worker_num': 1, 'host': 'notforever-lm', 'ppid': 8995, 'job_name': 'worker', 'tb_port': 0}\n"
     ]
    }
   ],
   "source": [
    "#reserver cluster for inference\n",
    "cluster = TFCluster.reserve(sc, num_executors, 1, TFCluster.InputMode.TENSORFLOW, TFCluster.InputMode.SPARK)"
   ]
  },
  {
   "cell_type": "code",
   "execution_count": 44,
   "metadata": {
    "collapsed": true
   },
   "outputs": [],
   "source": [
    "args = parser.parse_args(['--model', 'mnist_model', \n",
    "                          '--mode', 'inference', \n",
    "                          '--images', test_images_files, \n",
    "                          '--labels', test_labels_files])"
   ]
  },
  {
   "cell_type": "code",
   "execution_count": 45,
   "metadata": {
    "collapsed": false
   },
   "outputs": [
    {
     "data": {
      "text/plain": [
       "['2017-02-08T17:43:10.800489 Label: [ 0.  0.  0.  0.  0.  0.  0.  1.  0.  0.], Prediction: 7',\n",
       " '2017-02-08T17:43:10.801168 Label: [ 0.  0.  1.  0.  0.  0.  0.  0.  0.  0.], Prediction: 2',\n",
       " '2017-02-08T17:43:10.801530 Label: [ 0.  1.  0.  0.  0.  0.  0.  0.  0.  0.], Prediction: 1',\n",
       " '2017-02-08T17:43:10.802064 Label: [ 1.  0.  0.  0.  0.  0.  0.  0.  0.  0.], Prediction: 0',\n",
       " '2017-02-08T17:43:10.802509 Label: [ 0.  0.  0.  0.  1.  0.  0.  0.  0.  0.], Prediction: 4',\n",
       " '2017-02-08T17:43:10.802918 Label: [ 0.  1.  0.  0.  0.  0.  0.  0.  0.  0.], Prediction: 1',\n",
       " '2017-02-08T17:43:10.803290 Label: [ 0.  0.  0.  0.  1.  0.  0.  0.  0.  0.], Prediction: 4',\n",
       " '2017-02-08T17:43:10.803642 Label: [ 0.  0.  0.  0.  0.  0.  0.  0.  0.  1.], Prediction: 9',\n",
       " '2017-02-08T17:43:10.803990 Label: [ 0.  0.  0.  0.  0.  1.  0.  0.  0.  0.], Prediction: 6',\n",
       " '2017-02-08T17:43:10.804336 Label: [ 0.  0.  0.  0.  0.  0.  0.  0.  0.  1.], Prediction: 9',\n",
       " '2017-02-08T17:43:10.804742 Label: [ 1.  0.  0.  0.  0.  0.  0.  0.  0.  0.], Prediction: 0',\n",
       " '2017-02-08T17:43:10.805128 Label: [ 0.  0.  0.  0.  0.  0.  1.  0.  0.  0.], Prediction: 6',\n",
       " '2017-02-08T17:43:10.805511 Label: [ 0.  0.  0.  0.  0.  0.  0.  0.  0.  1.], Prediction: 9',\n",
       " '2017-02-08T17:43:10.805892 Label: [ 1.  0.  0.  0.  0.  0.  0.  0.  0.  0.], Prediction: 0',\n",
       " '2017-02-08T17:43:10.806271 Label: [ 0.  1.  0.  0.  0.  0.  0.  0.  0.  0.], Prediction: 1',\n",
       " '2017-02-08T17:43:10.806650 Label: [ 0.  0.  0.  0.  0.  1.  0.  0.  0.  0.], Prediction: 5',\n",
       " '2017-02-08T17:43:10.807025 Label: [ 0.  0.  0.  0.  0.  0.  0.  0.  0.  1.], Prediction: 9',\n",
       " '2017-02-08T17:43:10.807369 Label: [ 0.  0.  0.  0.  0.  0.  0.  1.  0.  0.], Prediction: 7',\n",
       " '2017-02-08T17:43:10.807713 Label: [ 0.  0.  0.  1.  0.  0.  0.  0.  0.  0.], Prediction: 3',\n",
       " '2017-02-08T17:43:10.808056 Label: [ 0.  0.  0.  0.  1.  0.  0.  0.  0.  0.], Prediction: 4']"
      ]
     },
     "execution_count": 45,
     "metadata": {},
     "output_type": "execute_result"
    }
   ],
   "source": [
    "cluster.start(mnist_dist.map_fun, args)\n",
    "#prepare data as Spark RDD\n",
    "images = sc.textFile(args.images).map(lambda ln: [int(x) for x in ln.split(',')])\n",
    "labels = sc.textFile(args.labels).map(lambda ln: [float(x) for x in ln.split(',')])\n",
    "dataRDD = images.zip(labels)\n",
    "#feed data for inference\n",
    "prediction_results = cluster.inference(dataRDD)\n",
    "prediction_results.take(20)"
   ]
  },
  {
   "cell_type": "code",
   "execution_count": 46,
   "metadata": {
    "collapsed": false
   },
   "outputs": [
    {
     "name": "stdout",
     "output_type": "stream",
     "text": [
      "connecting to ('notforever-lm', 57115), 51b0f93e-44d1-4a9c-a69d-48214d2d0d5f\n"
     ]
    }
   ],
   "source": [
    "cluster.shutdown()"
   ]
  }
 ],
 "metadata": {
  "kernelspec": {
   "display_name": "Python 2",
   "language": "python",
   "name": "python2"
  },
  "language_info": {
   "codemirror_mode": {
    "name": "ipython",
    "version": 2
   },
   "file_extension": ".py",
   "mimetype": "text/x-python",
   "name": "python",
   "nbconvert_exporter": "python",
   "pygments_lexer": "ipython2",
   "version": "2.7.11"
  }
 },
 "nbformat": 4,
 "nbformat_minor": 2
}
