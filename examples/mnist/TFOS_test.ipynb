{
 "cells": [
  {
   "cell_type": "code",
   "execution_count": 1,
   "metadata": {
    "collapsed": true
   },
   "outputs": [],
   "source": [
    "from __future__ import absolute_import\n",
    "from __future__ import division\n",
    "from __future__ import print_function\n",
    "\n",
    "from pyspark.context import SparkContext\n",
    "from pyspark.conf import SparkConf\n",
    "\n",
    "import argparse\n",
    "import os\n",
    "import numpy\n",
    "\n",
    "import sys\n",
    "import tensorflow as tf\n",
    "import threading\n",
    "from datetime import datetime\n",
    "\n",
    "from com.yahoo.ml.tf import TFCluster\n",
    "import mnist_dist\n",
    "\n"
   ]
  },
  {
   "cell_type": "code",
   "execution_count": 2,
   "metadata": {
    "collapsed": false
   },
   "outputs": [
    {
     "name": "stdout",
     "output_type": "stream",
     "text": [
      "Namespace(format='csv', images='mnist/csv/test/images', labels='mnist/csv/test/labels', mode='test', model='mnist_test_model', output='predictions', readers=1, steps=1000, tensorboard=False)\n"
     ]
    }
   ],
   "source": [
    "parser = argparse.ArgumentParser()\n",
    "parser.add_argument(\"-i\", \"--images\", help=\"HDFS path to MNIST images in parallelized format\")\n",
    "parser.add_argument(\"-f\", \"--format\", help=\"example format: (csv|pickle|tfr)\", choices=[\"csv\",\"pickle\",\"tfr\"], default=\"csv\")\n",
    "parser.add_argument(\"-l\", \"--labels\", help=\"HDFS path to MNIST labels in parallelized format\")\n",
    "parser.add_argument(\"-m\", \"--model\", help=\"HDFS path to save/load model during train/test\", default=\"mnist_model\")\n",
    "parser.add_argument(\"-o\", \"--output\", help=\"HDFS path to save test/inference output\", default=\"predictions\")\n",
    "parser.add_argument(\"-r\", \"--readers\", help=\"number of reader/enqueue threads\", type=int, default=1)\n",
    "parser.add_argument(\"-s\", \"--steps\", help=\"maximum number of steps\", type=int, default=1000)\n",
    "parser.add_argument(\"-X\", \"--mode\", help=\"train|test\", default=\"train\")\n",
    "parser.add_argument(\"-tb\", \"--tensorboard\", help=\"launch tensorboard process\", action=\"store_true\")\n",
    "args = parser.parse_args(['-f', 'csv', '-m', 'mnist_test_model', '-r', '1', '-i', 'mnist/csv/test/images', '-l', 'mnist/csv/test/labels', '-X', 'test'])\n",
    "print(args)"
   ]
  },
  {
   "cell_type": "code",
   "execution_count": 3,
   "metadata": {
    "collapsed": false
   },
   "outputs": [
    {
     "data": {
      "text/plain": [
       "10000"
      ]
     },
     "execution_count": 3,
     "metadata": {},
     "output_type": "execute_result"
    }
   ],
   "source": [
    "images = sc.textFile(args.images).map(lambda ln: [int(x) for x in ln.split(',')])\n",
    "labels = sc.textFile(args.labels).map(lambda ln: [float(x) for x in ln.split(',')])\n",
    "\n",
    "dataRDD = images.zip(labels)\n",
    "dataRDD.count()"
   ]
  },
  {
   "cell_type": "code",
   "execution_count": 4,
   "metadata": {
    "collapsed": true
   },
   "outputs": [],
   "source": [
    "num_executors = int(sc._conf.get(\"spark.executor.instances\"))\n",
    "num_ps = 1\n",
    "\n"
   ]
  },
  {
   "cell_type": "code",
   "execution_count": 5,
   "metadata": {
    "collapsed": true
   },
   "outputs": [],
   "source": [
    "# print(\"reserving TFNodes\", \"w/ TensorBoard\" if args.tensorboard else \"\")\n",
    "cluster = TFCluster.reserve(sc, num_executors, num_ps, False, TFCluster.InputMode.SPARK)\n"
   ]
  },
  {
   "cell_type": "code",
   "execution_count": 6,
   "metadata": {
    "collapsed": false
   },
   "outputs": [
    {
     "name": "stdout",
     "output_type": "stream",
     "text": [
      "{'addr': ('gpbl191n04.blue.ygrid.yahoo.com', 38707), 'task_index': 0, 'port': 50943, 'authkey': UUID('bbdd8c81-6495-4ab1-b32d-29f031eed90e'), 'worker_num': 0, 'host': 'gpbl191n04.blue.ygrid.yahoo.com', 'ppid': 106407, 'job_name': 'ps', 'tb_port': 0}\n",
      "{'addr': '/tmp/pymp-vF6Xqe/listener-MNNwWC', 'task_index': 0, 'port': 54972, 'authkey': UUID('32857dd3-ba20-46d1-be59-a4d771d13094'), 'worker_num': 1, 'host': 'gpbl191n17.blue.ygrid.yahoo.com', 'ppid': 14546, 'job_name': 'worker', 'tb_port': 0}\n",
      "{'addr': '/tmp/pymp-xTeEsP/listener-JaUVXw', 'task_index': 1, 'port': 40427, 'authkey': UUID('12d40b04-9bf0-405a-afff-e45069938a7a'), 'worker_num': 2, 'host': 'gpbl191n04.blue.ygrid.yahoo.com', 'ppid': 106509, 'job_name': 'worker', 'tb_port': 0}\n",
      "{'addr': '/tmp/pymp-hERBmx/listener-4XWkUp', 'task_index': 2, 'port': 50226, 'authkey': UUID('8d39f405-ff29-4d31-a321-526eb262442f'), 'worker_num': 3, 'host': 'gpbl191n04.blue.ygrid.yahoo.com', 'ppid': 106411, 'job_name': 'worker', 'tb_port': 0}\n"
     ]
    }
   ],
   "source": [
    "for node in cluster.cluster_info:\n",
    "  print(node)\n"
   ]
  },
  {
   "cell_type": "code",
   "execution_count": 7,
   "metadata": {
    "collapsed": true
   },
   "outputs": [],
   "source": [
    "cluster.start(mnist_dist.map_fun, args)\n"
   ]
  },
  {
   "cell_type": "code",
   "execution_count": 8,
   "metadata": {
    "collapsed": true
   },
   "outputs": [],
   "source": [
    "resultRDD = cluster.test(dataRDD)"
   ]
  },
  {
   "cell_type": "code",
   "execution_count": 9,
   "metadata": {
    "collapsed": false
   },
   "outputs": [
    {
     "data": {
      "text/plain": [
       "[7, 2, 1, 0, 4, 1, 4, 9, 6, 9, 0, 6, 9, 0, 1, 5, 9, 7, 3, 4, 9, 6, 6, 5, 4]"
      ]
     },
     "execution_count": 9,
     "metadata": {},
     "output_type": "execute_result"
    }
   ],
   "source": [
    "resultRDD.take(25)\n"
   ]
  },
  {
   "cell_type": "code",
   "execution_count": 10,
   "metadata": {
    "collapsed": false
   },
   "outputs": [
    {
     "name": "stdout",
     "output_type": "stream",
     "text": [
      "connecting to ('gpbl191n04.blue.ygrid.yahoo.com', 38707), bbdd8c81-6495-4ab1-b32d-29f031eed90e\n"
     ]
    }
   ],
   "source": [
    "cluster.shutdown()"
   ]
  },
  {
   "cell_type": "code",
   "execution_count": null,
   "metadata": {
    "collapsed": true
   },
   "outputs": [],
   "source": []
  }
 ],
 "metadata": {
  "kernelspec": {
   "display_name": "Python 2",
   "language": "python",
   "name": "python2"
  },
  "language_info": {
   "codemirror_mode": {
    "name": "ipython",
    "version": 2
   },
   "file_extension": ".py",
   "mimetype": "text/x-python",
   "name": "python",
   "nbconvert_exporter": "python",
   "pygments_lexer": "ipython2",
   "version": "2.7.12"
  }
 },
 "nbformat": 4,
 "nbformat_minor": 2
}
