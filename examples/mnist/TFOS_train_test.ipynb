{
 "cells": [
  {
   "cell_type": "code",
   "execution_count": null,
   "metadata": {
    "collapsed": false
   },
   "outputs": [],
   "source": [
    "sc"
   ]
  },
  {
   "cell_type": "code",
   "execution_count": 1,
   "metadata": {
    "collapsed": true
   },
   "outputs": [],
   "source": [
    "from __future__ import absolute_import\n",
    "from __future__ import division\n",
    "from __future__ import print_function\n",
    "\n",
    "from pyspark.context import SparkContext\n",
    "from pyspark.conf import SparkConf\n",
    "\n",
    "import argparse\n",
    "import os\n",
    "import numpy\n",
    "import sys\n",
    "import tensorflow as tf\n",
    "import threading\n",
    "from datetime import datetime\n",
    "\n",
    "from com.yahoo.ml.tf import TFCluster\n",
    "import mnist_dist"
   ]
  },
  {
   "cell_type": "code",
   "execution_count": 2,
   "metadata": {
    "collapsed": false
   },
   "outputs": [],
   "source": [
    "parser = argparse.ArgumentParser()\n",
    "parser.add_argument(\"-i\", \"--images\", help=\"HDFS path to MNIST images in parallelized format\")\n",
    "parser.add_argument(\"-f\", \"--format\", help=\"example format: (csv|pickle|tfr)\", choices=[\"csv\",\"pickle\",\"tfr\"], default=\"csv\")\n",
    "parser.add_argument(\"-l\", \"--labels\", help=\"HDFS path to MNIST labels in parallelized format\")\n",
    "parser.add_argument(\"-m\", \"--model\", help=\"HDFS path to save/load model during train/test\", default=\"mnist_model\")\n",
    "parser.add_argument(\"-o\", \"--output\", help=\"HDFS path to save test/inference output\", default=\"predictions\")\n",
    "parser.add_argument(\"-r\", \"--readers\", help=\"number of reader/enqueue threads\", type=int, default=1)\n",
    "parser.add_argument(\"-s\", \"--steps\", help=\"maximum number of steps\", type=int, default=1000)\n",
    "parser.add_argument(\"-X\", \"--mode\", help=\"train|test\", default=\"train\")\n",
    "parser.add_argument(\"-tb\", \"--tensorboard\", help=\"launch tensorboard process\", action=\"store_true\")\n",
    "args = parser.parse_args(['-f', 'csv', '-m', 'mnist_model', '-r', '1', '-i', 'mnist/csv/train/images', '-l', 'mnist/csv/train/labels'])"
   ]
  },
  {
   "cell_type": "code",
   "execution_count": 3,
   "metadata": {
    "collapsed": false
   },
   "outputs": [
    {
     "name": "stdout",
     "output_type": "stream",
     "text": [
      "Namespace(format='csv', images='mnist/csv/train/images', labels='mnist/csv/train/labels', mode='train', model='mnist_model', output='predictions', readers=1, steps=1000, tensorboard=False)\n"
     ]
    }
   ],
   "source": [
    "print(args)"
   ]
  },
  {
   "cell_type": "code",
   "execution_count": 4,
   "metadata": {
    "collapsed": false
   },
   "outputs": [
    {
     "data": {
      "text/plain": [
       "60000"
      ]
     },
     "execution_count": 4,
     "metadata": {},
     "output_type": "execute_result"
    }
   ],
   "source": [
    "images = sc.textFile(args.images).map(lambda ln: [int(x) for x in ln.split(',')])\n",
    "labels = sc.textFile(args.labels).map(lambda ln: [float(x) for x in ln.split(',')])\n",
    "\n",
    "dataRDD = images.zip(labels)\n",
    "dataRDD.count()"
   ]
  },
  {
   "cell_type": "code",
   "execution_count": 6,
   "metadata": {
    "collapsed": false
   },
   "outputs": [],
   "source": [
    "num_executors = int(sc._conf.get(\"spark.executor.instances\"))\n",
    "num_ps=1\n",
    "cluster = TFCluster.reserve(sc, num_executors, num_ps, args.tensorboard, TFCluster.InputMode.SPARK)"
   ]
  },
  {
   "cell_type": "code",
   "execution_count": 7,
   "metadata": {
    "collapsed": false
   },
   "outputs": [
    {
     "name": "stdout",
     "output_type": "stream",
     "text": [
      "{'addr': ('gpbl191n06.blue.ygrid.yahoo.com', 47563), 'task_index': 0, 'port': 54726, 'authkey': UUID('4986b679-ac7f-4a27-ad6b-df1b106441ed'), 'worker_num': 0, 'host': 'gpbl191n06.blue.ygrid.yahoo.com', 'ppid': 151824, 'job_name': 'ps', 'tb_port': 0}\n",
      "{'addr': '/tmp/pymp-N_3hkm/listener-S8jNxu', 'task_index': 0, 'port': 50619, 'authkey': UUID('388be510-d867-4ef7-a964-671dfab18587'), 'worker_num': 1, 'host': 'gpbl191n06.blue.ygrid.yahoo.com', 'ppid': 151826, 'job_name': 'worker', 'tb_port': 0}\n",
      "{'addr': '/tmp/pymp-OpjB49/listener-1yoZQ3', 'task_index': 1, 'port': 53088, 'authkey': UUID('ba3ecf8b-aeca-4a54-8d6a-12ef70b85d00'), 'worker_num': 2, 'host': 'gpbl191n06.blue.ygrid.yahoo.com', 'ppid': 151830, 'job_name': 'worker', 'tb_port': 0}\n",
      "{'addr': '/tmp/pymp-S3gBHS/listener-1Gv00y', 'task_index': 2, 'port': 51228, 'authkey': UUID('ec3b6b8d-7223-41ca-9f60-3c72a38366e6'), 'worker_num': 3, 'host': 'gpbl191n18.blue.ygrid.yahoo.com', 'ppid': 156919, 'job_name': 'worker', 'tb_port': 0}\n"
     ]
    }
   ],
   "source": [
    "for node in cluster.cluster_info:\n",
    "  print(node)"
   ]
  },
  {
   "cell_type": "code",
   "execution_count": 8,
   "metadata": {
    "collapsed": false
   },
   "outputs": [],
   "source": [
    "cluster.start(mnist_dist.map_fun, args)"
   ]
  },
  {
   "cell_type": "code",
   "execution_count": null,
   "metadata": {
    "collapsed": false
   },
   "outputs": [],
   "source": [
    "cluster.train(dataRDD)"
   ]
  },
  {
   "cell_type": "code",
   "execution_count": 9,
   "metadata": {
    "collapsed": false
   },
   "outputs": [
    {
     "name": "stdout",
     "output_type": "stream",
     "text": [
      "connecting to ('gpbl191n06.blue.ygrid.yahoo.com', 47563), 4986b679-ac7f-4a27-ad6b-df1b106441ed\n"
     ]
    }
   ],
   "source": [
    "cluster.shutdown()"
   ]
  },
  {
   "cell_type": "code",
   "execution_count": null,
   "metadata": {
    "collapsed": true
   },
   "outputs": [],
   "source": []
  },
  {
   "cell_type": "code",
   "execution_count": 10,
   "metadata": {
    "collapsed": false
   },
   "outputs": [
    {
     "name": "stdout",
     "output_type": "stream",
     "text": [
      "Namespace(format='csv', images='mnist/csv/test/images', labels='mnist/csv/test/labels', mode='test', model='mnist_test_model', output='predictions', readers=1, steps=1000, tensorboard=False)\n"
     ]
    }
   ],
   "source": [
    "test_args = parser.parse_args(['-f', 'csv', '-m', 'mnist_test_model', '-r', '1', '-i', 'mnist/csv/test/images', '-l', 'mnist/csv/test/labels', '-X', 'test'])\n",
    "print(test_args)"
   ]
  },
  {
   "cell_type": "code",
   "execution_count": 11,
   "metadata": {
    "collapsed": false
   },
   "outputs": [
    {
     "data": {
      "text/plain": [
       "10000"
      ]
     },
     "execution_count": 11,
     "metadata": {},
     "output_type": "execute_result"
    }
   ],
   "source": [
    "test_images = sc.textFile(test_args.images).map(lambda ln: [int(x) for x in ln.split(',')])\n",
    "test_labels = sc.textFile(test_args.labels).map(lambda ln: [float(x) for x in ln.split(',')])\n",
    "\n",
    "testRDD = test_images.zip(test_labels)\n",
    "testRDD.count()"
   ]
  },
  {
   "cell_type": "code",
   "execution_count": 12,
   "metadata": {
    "collapsed": false
   },
   "outputs": [],
   "source": [
    "test_cluster = TFCluster.reserve(sc, num_executors, num_ps, test_args.tensorboard, TFCluster.InputMode.SPARK)"
   ]
  },
  {
   "cell_type": "code",
   "execution_count": 13,
   "metadata": {
    "collapsed": false
   },
   "outputs": [
    {
     "name": "stdout",
     "output_type": "stream",
     "text": [
      "{'addr': ('gpbl191n18.blue.ygrid.yahoo.com', 46479), 'task_index': 0, 'port': 53676, 'authkey': UUID('d10b0f61-de3a-4c00-b3d0-4b66fdac268b'), 'worker_num': 0, 'host': 'gpbl191n18.blue.ygrid.yahoo.com', 'ppid': 156919, 'job_name': 'ps', 'tb_port': 0}\n",
      "{'addr': '/tmp/pymp-HP47Ov/listener-pQ5ITM', 'task_index': 0, 'port': 49333, 'authkey': UUID('a449e74e-32bd-4b80-b43c-50fa58ed1b0c'), 'worker_num': 1, 'host': 'gpbl191n06.blue.ygrid.yahoo.com', 'ppid': 151824, 'job_name': 'worker', 'tb_port': 0}\n",
      "{'addr': '/tmp/pymp-b0u3Qk/listener-eroxhe', 'task_index': 1, 'port': 50778, 'authkey': UUID('2b438707-0a9b-4299-857b-e3618e291af4'), 'worker_num': 2, 'host': 'gpbl191n06.blue.ygrid.yahoo.com', 'ppid': 151826, 'job_name': 'worker', 'tb_port': 0}\n",
      "{'addr': '/tmp/pymp-tYa212/listener-FvctRV', 'task_index': 2, 'port': 45742, 'authkey': UUID('47673d85-7a68-4ec2-a3bc-900ca4a2801b'), 'worker_num': 3, 'host': 'gpbl191n06.blue.ygrid.yahoo.com', 'ppid': 151830, 'job_name': 'worker', 'tb_port': 0}\n"
     ]
    }
   ],
   "source": [
    "for node in test_cluster.cluster_info:\n",
    "  print(node)"
   ]
  },
  {
   "cell_type": "code",
   "execution_count": 14,
   "metadata": {
    "collapsed": true
   },
   "outputs": [],
   "source": [
    "test_cluster.start(mnist_dist.map_fun, test_args)\n"
   ]
  },
  {
   "cell_type": "code",
   "execution_count": null,
   "metadata": {
    "collapsed": true
   },
   "outputs": [],
   "source": [
    "test_resultRDD = cluster.test(testRDD)"
   ]
  },
  {
   "cell_type": "code",
   "execution_count": null,
   "metadata": {
    "collapsed": true
   },
   "outputs": [],
   "source": [
    "test_resultRDD.take(25)\n"
   ]
  },
  {
   "cell_type": "code",
   "execution_count": null,
   "metadata": {
    "collapsed": false
   },
   "outputs": [],
   "source": [
    "test_cluster.shutdown()"
   ]
  },
  {
   "cell_type": "code",
   "execution_count": null,
   "metadata": {
    "collapsed": true
   },
   "outputs": [],
   "source": [
    "\n",
    "# cluster = TFCluster.reserve(sc, num_executors, num_ps, True, TFCluster.InputMode.SPARK)\n",
    "# args.mode = \"test\"\n",
    "# cluster.start(mnist_dist.map_fun, args)\n",
    "# resultRDD = cluster.test(dataRDD)"
   ]
  },
  {
   "cell_type": "code",
   "execution_count": null,
   "metadata": {
    "collapsed": true
   },
   "outputs": [],
   "source": []
  }
 ],
 "metadata": {
  "kernelspec": {
   "display_name": "Python 2",
   "language": "python",
   "name": "python2"
  },
  "language_info": {
   "codemirror_mode": {
    "name": "ipython",
    "version": 2
   },
   "file_extension": ".py",
   "mimetype": "text/x-python",
   "name": "python",
   "nbconvert_exporter": "python",
   "pygments_lexer": "ipython2",
   "version": "2.7.12"
  }
 },
 "nbformat": 4,
 "nbformat_minor": 2
}
