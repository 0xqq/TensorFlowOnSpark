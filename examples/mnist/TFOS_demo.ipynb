{
 "cells": [
  {
   "cell_type": "code",
   "execution_count": 1,
   "metadata": {
    "collapsed": true,
    "deletable": true,
    "editable": true
   },
   "outputs": [],
   "source": [
    "from __future__ import absolute_import\n",
    "from __future__ import division\n",
    "from __future__ import print_function\n",
    "\n",
    "import argparse\n",
    "import subprocess\n",
    "from com.yahoo.ml.tf import TFCluster\n",
    "import mnist_dist"
   ]
  },
  {
   "cell_type": "code",
   "execution_count": 3,
   "metadata": {
    "collapsed": false,
    "deletable": true,
    "editable": true
   },
   "outputs": [
    {
     "data": {
      "text/plain": [
       "_StoreTrueAction(option_strings=['-tb', '--tensorboard'], dest='tensorboard', nargs=0, const=True, default=False, type=None, choices=None, help='launch tensorboard process', metavar=None)"
      ]
     },
     "execution_count": 3,
     "metadata": {},
     "output_type": "execute_result"
    }
   ],
   "source": [
    "parser = argparse.ArgumentParser()\n",
    "parser.add_argument(\"-e\", \"--epochs\", help=\"number of epochs\", type=int, default=0)\n",
    "parser.add_argument(\"-i\", \"--images\", help=\"HDFS path to MNIST images in parallelized format\")\n",
    "parser.add_argument(\"-f\", \"--format\", help=\"example format: (csv|pickle|tfr)\", choices=[\"csv\",\"pickle\",\"tfr\"], default=\"csv\")\n",
    "parser.add_argument(\"-m\", \"--model\", help=\"HDFS path to save/load model during train/inference\", default=\"mnist_model\")\n",
    "parser.add_argument(\"-o\", \"--output\", help=\"HDFS path to save test/inference output\", default=\"predictions\")\n",
    "parser.add_argument(\"-r\", \"--readers\", help=\"number of reader/enqueue threads\", type=int, default=1)\n",
    "parser.add_argument(\"-s\", \"--steps\", help=\"maximum number of steps\", type=int, default=1000)\n",
    "parser.add_argument(\"-X\", \"--mode\", help=\"train|inference\", default=\"train\")\n",
    "parser.add_argument(\"-c\", \"--rdma\", help=\"use rdma connection\", default=False)\n",
    "parser.add_argument(\"-tb\", \"--tensorboard\", help=\"launch tensorboard process\", action=\"store_true\")\n"
   ]
  },
  {
   "cell_type": "code",
   "execution_count": 4,
   "metadata": {
    "collapsed": false,
    "deletable": true,
    "editable": true
   },
   "outputs": [
    {
     "name": "stderr",
     "output_type": "stream",
     "text": [
      "2017-02-03 02:19:13,676 INFO (MainThread-8373) Reserving TFSparkNodes w/ TensorBoard\n",
      "2017-02-03 02:19:25,401 INFO (MainThread-8373) TensorBoard running at: http://ip-172-31-17-161:32879\n"
     ]
    },
    {
     "name": "stdout",
     "output_type": "stream",
     "text": [
      "{'addr': ('ip-172-31-30-39', 40213), 'task_index': 0, 'port': 47014, 'authkey': UUID('b4c07235-044a-4c2b-b3ce-405ff5a850b8'), 'worker_num': 0, 'host': 'ip-172-31-30-39', 'ppid': 28325, 'job_name': 'ps', 'tb_port': 0}\n",
      "{'addr': '/tmp/pymp-uNclLs/listener-UQnli9', 'task_index': 0, 'port': 35767, 'authkey': UUID('9aa3fad5-83dc-4cc7-9967-f6c02bd10e1f'), 'worker_num': 1, 'host': 'ip-172-31-17-161', 'ppid': 2142, 'job_name': 'worker', 'tb_port': 32879}\n",
      "{'addr': '/tmp/pymp-OaWzph/listener-_72wmx', 'task_index': 1, 'port': 60383, 'authkey': UUID('7daff8e0-4226-4c2e-9e28-a258cff4c054'), 'worker_num': 2, 'host': 'ip-172-31-27-176', 'ppid': 976, 'job_name': 'worker', 'tb_port': 0}\n"
     ]
    }
   ],
   "source": [
    "num_executors = 3\n",
    "cluster = TFCluster.reserve(sc, num_executors, 1, True, TFCluster.InputMode.TENSORFLOW)"
   ]
  },
  {
   "cell_type": "code",
   "execution_count": 9,
   "metadata": {
    "collapsed": false
   },
   "outputs": [
    {
     "data": {
      "text/plain": [
       "0"
      ]
     },
     "execution_count": 9,
     "metadata": {},
     "output_type": "execute_result"
    }
   ],
   "source": [
    "subprocess.call([\"hadoop\", \"fs\", \"-rm\", \"-R\", \"/user/root/mnist_model\"])"
   ]
  },
  {
   "cell_type": "code",
   "execution_count": 10,
   "metadata": {
    "collapsed": false,
    "deletable": true,
    "editable": true,
    "scrolled": false
   },
   "outputs": [
    {
     "name": "stderr",
     "output_type": "stream",
     "text": [
      "2017-02-03 02:06:38,293 INFO (MainThread-7718) Starting TensorFlow\n"
     ]
    }
   ],
   "source": [
    "args = parser.parse_args(['--format', 'tfr', '--model', 'mnist_model', '--images', 'mnist/tfr/train'])\n",
    "cluster.start(mnist_dist.map_fun, args)"
   ]
  },
  {
   "cell_type": "code",
   "execution_count": 11,
   "metadata": {
    "collapsed": false,
    "deletable": true,
    "editable": true,
    "scrolled": true
   },
   "outputs": [
    {
     "name": "stderr",
     "output_type": "stream",
     "text": [
      "2017-02-03 02:06:48,118 INFO (MainThread-7718) Stopping TensorFlow nodes\n"
     ]
    },
    {
     "name": "stdout",
     "output_type": "stream",
     "text": [
      "connecting to ('ip-172-31-17-161', 41015), e0bf9da4-8d9a-4bf7-9dd3-5a12e7428bb7\n"
     ]
    }
   ],
   "source": [
    "cluster.shutdown()"
   ]
  },
  {
   "cell_type": "code",
   "execution_count": 12,
   "metadata": {
    "collapsed": false
   },
   "outputs": [
    {
     "name": "stdout",
     "output_type": "stream",
     "text": [
      "Found 17 items\n",
      "-rw-r--r--   3 root supergroup        265 2017-02-03 02:08 /user/root/mnist_model/checkpoint\n",
      "-rw-r--r--   3 root supergroup     142729 2017-02-03 02:06 /user/root/mnist_model/graph.pbtxt\n",
      "-rw-r--r--   3 root supergroup     814164 2017-02-03 02:07 /user/root/mnist_model/model.ckpt-471.data-00000-of-00001\n",
      "-rw-r--r--   3 root supergroup        372 2017-02-03 02:07 /user/root/mnist_model/model.ckpt-471.index\n",
      "-rw-r--r--   3 root supergroup      56850 2017-02-03 02:07 /user/root/mnist_model/model.ckpt-471.meta\n",
      "-rw-r--r--   3 root supergroup     814164 2017-02-03 02:08 /user/root/mnist_model/model.ckpt-595.data-00000-of-00001\n",
      "-rw-r--r--   3 root supergroup        372 2017-02-03 02:08 /user/root/mnist_model/model.ckpt-595.index\n",
      "-rw-r--r--   3 root supergroup      56850 2017-02-03 02:08 /user/root/mnist_model/model.ckpt-595.meta\n",
      "-rw-r--r--   3 root supergroup     814164 2017-02-03 02:08 /user/root/mnist_model/model.ckpt-719.data-00000-of-00001\n",
      "-rw-r--r--   3 root supergroup        372 2017-02-03 02:08 /user/root/mnist_model/model.ckpt-719.index\n",
      "-rw-r--r--   3 root supergroup      56850 2017-02-03 02:08 /user/root/mnist_model/model.ckpt-719.meta\n",
      "-rw-r--r--   3 root supergroup     814164 2017-02-03 02:08 /user/root/mnist_model/model.ckpt-843.data-00000-of-00001\n",
      "-rw-r--r--   3 root supergroup        372 2017-02-03 02:08 /user/root/mnist_model/model.ckpt-843.index\n",
      "-rw-r--r--   3 root supergroup      56850 2017-02-03 02:08 /user/root/mnist_model/model.ckpt-843.meta\n",
      "-rw-r--r--   3 root supergroup     814164 2017-02-03 02:08 /user/root/mnist_model/model.ckpt-968.data-00000-of-00001\n",
      "-rw-r--r--   3 root supergroup        372 2017-02-03 02:08 /user/root/mnist_model/model.ckpt-968.index\n",
      "-rw-r--r--   3 root supergroup      56850 2017-02-03 02:08 /user/root/mnist_model/model.ckpt-968.meta\n",
      "\n"
     ]
    }
   ],
   "source": [
    "print(subprocess.check_output([\"hadoop\", \"fs\", \"-ls\", \"/user/root/mnist_model\"]))"
   ]
  },
  {
   "cell_type": "code",
   "execution_count": 5,
   "metadata": {
    "collapsed": true
   },
   "outputs": [],
   "source": [
    "inf_args = parser.parse_args(['--format', 'tfr', '--model', 'mnist_model', '--mode', 'inference', '--images', 'mnist/tfr/test', '--epochs', '1'])"
   ]
  },
  {
   "cell_type": "code",
   "execution_count": 6,
   "metadata": {
    "collapsed": false
   },
   "outputs": [
    {
     "name": "stderr",
     "output_type": "stream",
     "text": [
      "2017-02-03 02:19:49,536 INFO (MainThread-8373) Starting TensorFlow\n"
     ]
    }
   ],
   "source": [
    "cluster.start(mnist_dist.map_fun, inf_args)"
   ]
  },
  {
   "cell_type": "code",
   "execution_count": 7,
   "metadata": {
    "collapsed": false
   },
   "outputs": [
    {
     "name": "stderr",
     "output_type": "stream",
     "text": [
      "2017-02-03 02:19:56,503 INFO (MainThread-8373) Stopping TensorFlow nodes\n"
     ]
    },
    {
     "name": "stdout",
     "output_type": "stream",
     "text": [
      "connecting to ('ip-172-31-30-39', 40213), b4c07235-044a-4c2b-b3ce-405ff5a850b8\n"
     ]
    }
   ],
   "source": [
    "cluster.shutdown()"
   ]
  },
  {
   "cell_type": "code",
   "execution_count": 11,
   "metadata": {
    "collapsed": false
   },
   "outputs": [],
   "source": [
    "predictions =sc.textFile(\"/user/root/predictions\")"
   ]
  },
  {
   "cell_type": "code",
   "execution_count": 12,
   "metadata": {
    "collapsed": false
   },
   "outputs": [
    {
     "data": {
      "text/plain": [
       "[u'7 7',\n",
       " u'2 2',\n",
       " u'1 1',\n",
       " u'0 0',\n",
       " u'4 4',\n",
       " u'1 1',\n",
       " u'4 4',\n",
       " u'9 9',\n",
       " u'5 6',\n",
       " u'9 9']"
      ]
     },
     "execution_count": 12,
     "metadata": {},
     "output_type": "execute_result"
    }
   ],
   "source": [
    "predictions.take(10)"
   ]
  }
 ],
 "metadata": {
  "kernelspec": {
   "display_name": "Python 2",
   "language": "python",
   "name": "python2"
  },
  "language_info": {
   "codemirror_mode": {
    "name": "ipython",
    "version": 2
   },
   "file_extension": ".py",
   "mimetype": "text/x-python",
   "name": "python",
   "nbconvert_exporter": "python",
   "pygments_lexer": "ipython2",
   "version": "2.7.12"
  }
 },
 "nbformat": 4,
 "nbformat_minor": 2
}
